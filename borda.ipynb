{
 "cells": [
  {
   "cell_type": "markdown",
   "id": "9cfdda01-e77c-4d9c-851b-ef905b112f80",
   "metadata": {},
   "source": [
    "# Rank aggregation with Borda Fusion\n",
    "\n",
    "## Some background\n",
    "A rank aggregation problem involves merging some number of preference lists to produce a single new list containing the 'group' preferences. The algorithm I have chosen to use (at least, for now, as a first attempt) is known as borda fusion or borda count. The principle is simple: convert the \"rank\" into points and sum them up across users. Then sort the list based on rank.\n",
    "\n",
    "In borda count, more points are assigned to entries with a higher rank - i.e. the first ranked item gets the most points. If there are $k$ items to be ranked, then an item ranked $n$ gets $(k-n)$ points.\n",
    "\n",
    "---\n",
    "\n",
    "## implementing this in python\n",
    "\n",
    "Implementing this idea in python isnt really all that hard - but there is some nuance, especially with how the data is modelled. First, lets load in some data:"
   ]
  },
  {
   "cell_type": "code",
   "execution_count": 1,
   "id": "ca414e6a-dd41-4395-b12b-29e6283b0dfb",
   "metadata": {},
   "outputs": [],
   "source": [
    "import pandas as pd\n",
    "import numpy as np"
   ]
  },
  {
   "cell_type": "code",
   "execution_count": 2,
   "id": "b581d2c6-2a46-47c1-9578-e634729dd74d",
   "metadata": {},
   "outputs": [],
   "source": [
    "# load environment variables\n",
    "%load_ext dotenv\n",
    "%dotenv\n",
    "    \n",
    "# grab the one we need\n",
    "import os\n",
    "POSTGRES_URL = os.environ.get(\"POSTGRES_URL_PYTHON\")"
   ]
  },
  {
   "cell_type": "code",
   "execution_count": 3,
   "id": "4cf5fd15-38c5-4b5f-a210-cd5c56da7586",
   "metadata": {},
   "outputs": [
    {
     "data": {
      "text/html": [
       "<div>\n",
       "<style scoped>\n",
       "    .dataframe tbody tr th:only-of-type {\n",
       "        vertical-align: middle;\n",
       "    }\n",
       "\n",
       "    .dataframe tbody tr th {\n",
       "        vertical-align: top;\n",
       "    }\n",
       "\n",
       "    .dataframe thead th {\n",
       "        text-align: right;\n",
       "    }\n",
       "</style>\n",
       "<table border=\"1\" class=\"dataframe\">\n",
       "  <thead>\n",
       "    <tr style=\"text-align: right;\">\n",
       "      <th></th>\n",
       "      <th>user</th>\n",
       "      <th>item</th>\n",
       "      <th>preference</th>\n",
       "    </tr>\n",
       "  </thead>\n",
       "  <tbody>\n",
       "    <tr>\n",
       "      <th>0</th>\n",
       "      <td>user_2Wl5UZ7BeqxPZWtHgwMy5th9Qnj</td>\n",
       "      <td>tt0080684</td>\n",
       "      <td>6.0</td>\n",
       "    </tr>\n",
       "    <tr>\n",
       "      <th>1</th>\n",
       "      <td>user_2Wl5UZ7BeqxPZWtHgwMy5th9Qnj</td>\n",
       "      <td>tt0076759</td>\n",
       "      <td>5.0</td>\n",
       "    </tr>\n",
       "    <tr>\n",
       "      <th>2</th>\n",
       "      <td>user_2Wl5UZ7BeqxPZWtHgwMy5th9Qnj</td>\n",
       "      <td>tt0086190</td>\n",
       "      <td>4.0</td>\n",
       "    </tr>\n",
       "    <tr>\n",
       "      <th>3</th>\n",
       "      <td>user_2Wl5UZ7BeqxPZWtHgwMy5th9Qnj</td>\n",
       "      <td>tt0167261</td>\n",
       "      <td>3.0</td>\n",
       "    </tr>\n",
       "    <tr>\n",
       "      <th>4</th>\n",
       "      <td>user_2Wl5UZ7BeqxPZWtHgwMy5th9Qnj</td>\n",
       "      <td>tt0167260</td>\n",
       "      <td>2.0</td>\n",
       "    </tr>\n",
       "    <tr>\n",
       "      <th>5</th>\n",
       "      <td>user_2Wl5UZ7BeqxPZWtHgwMy5th9Qnj</td>\n",
       "      <td>tt0120737</td>\n",
       "      <td>1.0</td>\n",
       "    </tr>\n",
       "  </tbody>\n",
       "</table>\n",
       "</div>"
      ],
      "text/plain": [
       "                               user       item  preference\n",
       "0  user_2Wl5UZ7BeqxPZWtHgwMy5th9Qnj  tt0080684         6.0\n",
       "1  user_2Wl5UZ7BeqxPZWtHgwMy5th9Qnj  tt0076759         5.0\n",
       "2  user_2Wl5UZ7BeqxPZWtHgwMy5th9Qnj  tt0086190         4.0\n",
       "3  user_2Wl5UZ7BeqxPZWtHgwMy5th9Qnj  tt0167261         3.0\n",
       "4  user_2Wl5UZ7BeqxPZWtHgwMy5th9Qnj  tt0167260         2.0\n",
       "5  user_2Wl5UZ7BeqxPZWtHgwMy5th9Qnj  tt0120737         1.0"
      ]
     },
     "execution_count": 3,
     "metadata": {},
     "output_type": "execute_result"
    }
   ],
   "source": [
    "from src.apy.managers.sqlManager import SqlManager\n",
    "\n",
    "sql_repo = SqlManager(POSTGRES_URL)\n",
    "\n",
    "data = sql_repo.get_club_ranks(\"tea-club\")\n",
    "data"
   ]
  },
  {
   "cell_type": "markdown",
   "id": "618931d9-2b12-4c74-9662-a3f8714a3613",
   "metadata": {},
   "source": [
    "Here I am using a test club with some faked users, just so we have some proper data to work with. The data reflect the nature of our data model and DB tables; This is a single list, with the preference of all different users globbed together. One row of the table looks like This\n",
    "```python\n",
    "{\n",
    "    \"user\": movie.userID,\n",
    "    \"item\": movie.movieID,\n",
    "    \"preference\": movie.preference,\n",
    "}\n",
    "```\n",
    "This makes the next step easy - we need a list of all the unique movie IDs in this combined set; We can do this by selecting out the movieID column and grabbing the unique movies.\n"
   ]
  },
  {
   "cell_type": "code",
   "execution_count": 4,
   "id": "0911c97b-8f27-4d20-8f1b-c10f4d2f43f4",
   "metadata": {},
   "outputs": [],
   "source": [
    "movies = data[\"item\"].unique()\n",
    "k = len(movies)"
   ]
  },
  {
   "cell_type": "markdown",
   "id": "ecd94ef0-b87d-4f10-91b5-409d4f5056fe",
   "metadata": {},
   "source": [
    "Now we are ready to do the actual borda fusion; This can be done very easily with pandas. First, we need to break the input data into groups based on user;\n",
    "for each of these smaller tables, we need to compute a new column - `borda-points`. Recall: this should be our number of total movies $k$ minus the rank of the movie. How fortunate that pandas has a `df.rank()` function built in!\n",
    "\n",
    "We then need to join these per-user datafranes back together - which we can do with `pd.concat()`.\n",
    "\n",
    "We dont need columns other than `[\"item\", \"borda-points\"]` so lets just grab those. Finally, we can group the entries by item, and sum the borda points, and then sort by the resulting totals"
   ]
  },
  {
   "cell_type": "code",
   "execution_count": 5,
   "id": "121faf95-2423-47e8-a419-fd370bda7b49",
   "metadata": {},
   "outputs": [
    {
     "data": {
      "text/html": [
       "<div>\n",
       "<style scoped>\n",
       "    .dataframe tbody tr th:only-of-type {\n",
       "        vertical-align: middle;\n",
       "    }\n",
       "\n",
       "    .dataframe tbody tr th {\n",
       "        vertical-align: top;\n",
       "    }\n",
       "\n",
       "    .dataframe thead th {\n",
       "        text-align: right;\n",
       "    }\n",
       "</style>\n",
       "<table border=\"1\" class=\"dataframe\">\n",
       "  <thead>\n",
       "    <tr style=\"text-align: right;\">\n",
       "      <th></th>\n",
       "      <th>borda-points</th>\n",
       "    </tr>\n",
       "    <tr>\n",
       "      <th>item</th>\n",
       "      <th></th>\n",
       "    </tr>\n",
       "  </thead>\n",
       "  <tbody>\n",
       "    <tr>\n",
       "      <th>tt0080684</th>\n",
       "      <td>0.0</td>\n",
       "    </tr>\n",
       "    <tr>\n",
       "      <th>tt0076759</th>\n",
       "      <td>1.0</td>\n",
       "    </tr>\n",
       "    <tr>\n",
       "      <th>tt0086190</th>\n",
       "      <td>2.0</td>\n",
       "    </tr>\n",
       "    <tr>\n",
       "      <th>tt0167261</th>\n",
       "      <td>3.0</td>\n",
       "    </tr>\n",
       "    <tr>\n",
       "      <th>tt0167260</th>\n",
       "      <td>4.0</td>\n",
       "    </tr>\n",
       "    <tr>\n",
       "      <th>tt0120737</th>\n",
       "      <td>5.0</td>\n",
       "    </tr>\n",
       "  </tbody>\n",
       "</table>\n",
       "</div>"
      ],
      "text/plain": [
       "           borda-points\n",
       "item                   \n",
       "tt0080684           0.0\n",
       "tt0076759           1.0\n",
       "tt0086190           2.0\n",
       "tt0167261           3.0\n",
       "tt0167260           4.0\n",
       "tt0120737           5.0"
      ]
     },
     "execution_count": 5,
     "metadata": {},
     "output_type": "execute_result"
    }
   ],
   "source": [
    "def add_points(l):\n",
    "    l[\"borda-points\"] = k - l[\"preference\"].rank(ascending=True)\n",
    "    return l\n",
    "\n",
    "result = pd.concat([add_points(rankings) for _, rankings in data.groupby(\"user\")])[[\"item\", \"borda-points\"]].groupby(\"item\").sum().sort_values(by=\"borda-points\")\n",
    "result"
   ]
  }
 ],
 "metadata": {
  "kernelspec": {
   "display_name": "Python 3 (ipykernel)",
   "language": "python",
   "name": "python3"
  },
  "language_info": {
   "codemirror_mode": {
    "name": "ipython",
    "version": 3
   },
   "file_extension": ".py",
   "mimetype": "text/x-python",
   "name": "python",
   "nbconvert_exporter": "python",
   "pygments_lexer": "ipython3",
   "version": "3.10.4"
  }
 },
 "nbformat": 4,
 "nbformat_minor": 5
}
